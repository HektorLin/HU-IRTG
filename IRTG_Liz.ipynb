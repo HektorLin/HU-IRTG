{
 "cells": [
  {
   "cell_type": "code",
   "execution_count": 1,
   "metadata": {},
   "outputs": [],
   "source": [
    "import pandas as pd\n",
    "import requests\n",
    "import re\n",
    "import numpy as np\n",
    "import ast"
   ]
  },
  {
   "cell_type": "markdown",
   "metadata": {},
   "source": [
    "Functions"
   ]
  },
  {
   "cell_type": "code",
   "execution_count": 2,
   "metadata": {},
   "outputs": [],
   "source": [
    "# obtain a table with [slug,category] as column, given retrived get_all url\n",
    "def get_DApp_table(text):\n",
    "    DApp_table = []\n",
    "    DApps_list = html.text.split(\"}, {\")\n",
    "    for line in DApps_list:\n",
    "        DApp_line = re.findall(r'\"([^\"]*)\"', line)\n",
    "        category = DApp_line[DApp_line.index(\"categories\")+1]\n",
    "        slug = DApp_line[DApp_line.index(\"slug\")+1]\n",
    "        DApp_table.append([slug,category])\n",
    "    return DApp_table"
   ]
  },
  {
   "cell_type": "code",
   "execution_count": 3,
   "metadata": {},
   "outputs": [],
   "source": [
    "# obtain a list with [slug,address] as column, given DApp specific url\n",
    "def get_DApp_hash(slug):\n",
    "    DApp_request = 'https://api.stateofthedapps.com/dapps/'\n",
    "    DApp_html = requests.get(DApp_request + slug)\n",
    "    DApp_info = re.findall(r'\"([^\"]*)\"', DApp_html.text)\n",
    "    DApp_hash = DApp_info[DApp_info.index(\"contractsMainnet\")+1:DApp_info.index(\"contractsRinkeby\")]\n",
    "    DApp_hash = [[hash,slug] for hash in DApp_hash]\n",
    "    return DApp_hash"
   ]
  },
  {
   "cell_type": "markdown",
   "metadata": {},
   "source": [
    "Main"
   ]
  },
  {
   "cell_type": "code",
   "execution_count": 4,
   "metadata": {},
   "outputs": [
    {
     "data": {
      "text/plain": [
       "1777"
      ]
     },
     "execution_count": 4,
     "metadata": {},
     "output_type": "execute_result"
    }
   ],
   "source": [
    "# try an arbitarily large page number to get the total number of DApps for ethereum\n",
    "test_url = 'https://api.stateofthedapps.com/dapps?platform=ethereum&limit=50&page=' + str(23943545)\n",
    "test = requests.get(test_url)\n",
    "count = ast.literal_eval(test.text)['pager']['totalCount']\n",
    "count"
   ]
  },
  {
   "cell_type": "code",
   "execution_count": 5,
   "metadata": {},
   "outputs": [
    {
     "data": {
      "text/plain": [
       "(1777, 2)"
      ]
     },
     "execution_count": 5,
     "metadata": {},
     "output_type": "execute_result"
    }
   ],
   "source": [
    "# obtain DApp_table with [slug,category] as column\n",
    "# the first element in DApp_table.shape should match the count from the previous block\n",
    "base_url = 'https://api.stateofthedapps.com/dapps?platform=ethereum&page='\n",
    "table = []\n",
    "for page in range(1,int(np.ceil(count/50)+1)):\n",
    "    url = base_url + str(page)\n",
    "    html= requests.get(url)\n",
    "    table.extend(get_DApp_table(html.text))\n",
    "DApp_table = pd.DataFrame(table,columns=['slug','category'])\n",
    "DApp_table.shape"
   ]
  },
  {
   "cell_type": "code",
   "execution_count": 6,
   "metadata": {},
   "outputs": [],
   "source": [
    "# obtain the DApp_hash_table with [slug,address] as column\n",
    "DApp_hash_table = []\n",
    "for slug in DApp_table['slug']:\n",
    "    DApp_hash = get_DApp_hash(slug)\n",
    "    DApp_hash_table = DApp_hash_table + DApp_hash\n",
    "DApp_hash_table = pd.DataFrame(DApp_hash_table,columns=['address','slug'])"
   ]
  },
  {
   "cell_type": "code",
   "execution_count": 7,
   "metadata": {},
   "outputs": [],
   "source": [
    "# merge two tables and save the output \n",
    "output = DApp_hash_table.merge(DApp_table,on='slug',how='left')\n",
    "output.to_csv(\"DApps.csv\")"
   ]
  }
 ],
 "metadata": {
  "kernelspec": {
   "display_name": "Python 3",
   "language": "python",
   "name": "python3"
  },
  "language_info": {
   "codemirror_mode": {
    "name": "ipython",
    "version": 3
   },
   "file_extension": ".py",
   "mimetype": "text/x-python",
   "name": "python",
   "nbconvert_exporter": "python",
   "pygments_lexer": "ipython3",
   "version": "3.6.8"
  }
 },
 "nbformat": 4,
 "nbformat_minor": 2
}
