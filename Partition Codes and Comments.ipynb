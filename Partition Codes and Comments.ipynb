{
 "cells": [
  {
   "cell_type": "code",
   "execution_count": 1,
   "metadata": {},
   "outputs": [],
   "source": [
    "import re\n",
    "import pandas as pd\n",
    "from os import walk\n",
    "import numpy as np\n",
    "import pickle"
   ]
  },
  {
   "cell_type": "code",
   "execution_count": 2,
   "metadata": {},
   "outputs": [],
   "source": [
    "#https://stackoverflow.com/questions/2319019/using-regex-to-remove-comments-from-source-files\n",
    "def remove_comments(string):\n",
    "    pattern = r\"(\\\".*?\\\"|\\'.*?\\')|(/\\*.*?\\*/|//[^\\r\\n]*$)\"\n",
    "    # first group captures quoted strings (double or single)\n",
    "    # second group captures comments (//single-line or /* multi-line */)\n",
    "    regex = re.compile(pattern, re.MULTILINE|re.DOTALL)\n",
    "    def _replacer(match):\n",
    "        # if the 2nd group (capturing comments) is not None,\n",
    "        # it means we have captured a non-quoted (real) comment string.\n",
    "        if match.group(2) is not None:\n",
    "            return \"\" # so we will return empty to remove the comment\n",
    "        else: # otherwise, we will return the 1st group\n",
    "            return match.group(1) # captured quoted-string\n",
    "    return regex.sub(_replacer, string)\n",
    "\n",
    "#following the example above, distinguish group(1): \"\" or'' and group(2,true comments): \\*.*\\ or //\n",
    "#return when a true comment is located\n",
    "def leave_only_comments(string):\n",
    "    pattern = r\"(\\\".*?\\\"|\\'.*?\\')|(/\\*.*?\\*/|//[^\\r\\n]*$)\"\n",
    "    regex = re.compile(pattern, re.MULTILINE|re.DOTALL)\n",
    "    comments = [x[1] for x in regex.findall(script)]\n",
    "    return comments"
   ]
  },
  {
   "cell_type": "code",
   "execution_count": 3,
   "metadata": {},
   "outputs": [],
   "source": [
    "#read where the sol source code files are\n",
    "mypath = 'sol_source/'\n",
    "\n",
    "sol_files = []\n",
    "for (dirpath, dirnames, filenames) in walk(mypath):\n",
    "    sol_files.extend(filenames)\n",
    "    break"
   ]
  },
  {
   "cell_type": "code",
   "execution_count": 4,
   "metadata": {},
   "outputs": [],
   "source": [
    "#read every sol source file and record their name, address, and content.\n",
    "#also separate codes and comments\n",
    "name_list = []\n",
    "address_list = []\n",
    "uncommented = []\n",
    "source_code = []\n",
    "comments = []\n",
    "\n",
    "for file in sol_files:\n",
    "    #print(file)\n",
    "    address = file.split('_')[0]\n",
    "    address_list.append(address)\n",
    "    name = file.split('_')[1].split('.')[0]\n",
    "    name_list.append(name)\n",
    "    \n",
    "    path = 'sol_source/' + file\n",
    "    #f = open(path, \"rb\")\n",
    "    f = open(path, encoding=\"utf-8\")    \n",
    "    script = f.read()\n",
    "    f.close()\n",
    "    \n",
    "    source_code.append(script)\n",
    "    uncommented.append(remove_comments(script))\n",
    "    comments.append(leave_only_comments(script))"
   ]
  },
  {
   "cell_type": "code",
   "execution_count": 5,
   "metadata": {},
   "outputs": [],
   "source": [
    "#form dataframe\n",
    "table = [name_list,address_list,source_code,uncommented,comments]\n",
    "table = pd.DataFrame(table).transpose()\n",
    "table.columns = ['name','address','souce_code','uncommented','comments']"
   ]
  },
  {
   "cell_type": "code",
   "execution_count": 6,
   "metadata": {},
   "outputs": [],
   "source": [
    "#load and merge slug name from earlier file\n",
    "slug = pd.read_csv('HU_Projects-master/DApps.csv')\n",
    "table = table.merge(slug.loc[:,('address','slug')],on='address',how='left')"
   ]
  },
  {
   "cell_type": "code",
   "execution_count": 7,
   "metadata": {},
   "outputs": [],
   "source": [
    "#save to pickle\n",
    "table.to_pickle('my_df.pickle')"
   ]
  }
 ],
 "metadata": {
  "kernelspec": {
   "display_name": "Python 3",
   "language": "python",
   "name": "python3"
  },
  "language_info": {
   "codemirror_mode": {
    "name": "ipython",
    "version": 3
   },
   "file_extension": ".py",
   "mimetype": "text/x-python",
   "name": "python",
   "nbconvert_exporter": "python",
   "pygments_lexer": "ipython3",
   "version": "3.6.8"
  }
 },
 "nbformat": 4,
 "nbformat_minor": 2
}
